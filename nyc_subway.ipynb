{
  "nbformat": 4,
  "nbformat_minor": 0,
  "metadata": {
    "colab": {
      "name": "nyc_subway.ipynb",
      "provenance": [],
      "collapsed_sections": []
    },
    "kernelspec": {
      "name": "python3",
      "display_name": "Python 3"
    },
    "language_info": {
      "name": "python"
    },
    "accelerator": "GPU"
  },
  "cells": [
    {
      "cell_type": "markdown",
      "metadata": {
        "id": "Yj6mqtuSDd54"
      },
      "source": [
        "# NYC Subway "
      ]
    },
    {
      "cell_type": "markdown",
      "metadata": {
        "id": "HCeukkm7EG7v"
      },
      "source": [
        "> In this notebook, we're going to analyze the NYC subway dataset. \n",
        "\n",
        "> This dataset contains information of subway such as: number of entries of subway at times of the day as well as weather conditions."
      ]
    },
    {
      "cell_type": "markdown",
      "metadata": {
        "id": "r-lB7iPFGxpu"
      },
      "source": [
        "# Import Lib\n"
      ]
    },
    {
      "cell_type": "code",
      "metadata": {
        "id": "MawAOzDj6rj7"
      },
      "source": [
        "import pandas as pd\n",
        "import matplotlib.pyplot as plt\n",
        "from sklearn.linear_model import RidgeCV, LinearRegression\n",
        "from sklearn.compose import TransformedTargetRegressor\n",
        "from sklearn.metrics import median_absolute_error, r2_score, mean_squared_error, mean_absolute_error\n",
        "from sklearn.model_selection import KFold\n",
        "from sklearn.model_selection import cross_val_score, cross_val_predict, RandomizedSearchCV,GridSearchCV\n",
        "from sklearn.ensemble import RandomForestRegressor, GradientBoostingRegressor\n",
        "from sklearn.preprocessing import StandardScaler, MinMaxScaler\n",
        "from scipy import stats\n",
        "\n",
        "import numpy as np\n",
        "from sklearn import preprocessing\n",
        "from sklearn.ensemble import RandomForestRegressor, GradientBoostingRegressor\n",
        "from sklearn.model_selection import cross_val_score, cross_val_predict, RandomizedSearchCV,GridSearchCV\n",
        "from sklearn.metrics import median_absolute_error, r2_score, mean_squared_error, mean_absolute_error"
      ],
      "execution_count": null,
      "outputs": []
    },
    {
      "cell_type": "markdown",
      "metadata": {
        "id": "8nnrOR-_G65V"
      },
      "source": [
        "# Exploratory Data Analysis"
      ]
    },
    {
      "cell_type": "code",
      "metadata": {
        "colab": {
          "base_uri": "https://localhost:8080/"
        },
        "id": "eqo8EUyaqWlh",
        "outputId": "6b558576-48f6-4dd8-d6e5-47d3ba07b2d0"
      },
      "source": [
        "from google.colab import drive\n",
        "drive.mount('/content/drive')"
      ],
      "execution_count": null,
      "outputs": [
        {
          "output_type": "stream",
          "text": [
            "Mounted at /content/drive\n"
          ],
          "name": "stdout"
        }
      ]
    },
    {
      "cell_type": "code",
      "metadata": {
        "id": "6WgH7gO9IFkx"
      },
      "source": [
        "data = pd.read_csv('/content/drive/MyDrive/nyc_subway.csv')"
      ],
      "execution_count": null,
      "outputs": []
    },
    {
      "cell_type": "markdown",
      "metadata": {
        "id": "Ek7q49LIJBpD"
      },
      "source": [
        "> Let's take a look on our data!"
      ]
    },
    {
      "cell_type": "code",
      "metadata": {
        "colab": {
          "base_uri": "https://localhost:8080/",
          "height": 313
        },
        "id": "Eg4HUvOMG5yn",
        "outputId": "f9f2abb4-299f-4aad-8ee6-81677d85f14e"
      },
      "source": [
        "data.head()"
      ],
      "execution_count": null,
      "outputs": [
        {
          "output_type": "execute_result",
          "data": {
            "text/html": [
              "<div>\n",
              "<style scoped>\n",
              "    .dataframe tbody tr th:only-of-type {\n",
              "        vertical-align: middle;\n",
              "    }\n",
              "\n",
              "    .dataframe tbody tr th {\n",
              "        vertical-align: top;\n",
              "    }\n",
              "\n",
              "    .dataframe thead th {\n",
              "        text-align: right;\n",
              "    }\n",
              "</style>\n",
              "<table border=\"1\" class=\"dataframe\">\n",
              "  <thead>\n",
              "    <tr style=\"text-align: right;\">\n",
              "      <th></th>\n",
              "      <th>UNIT</th>\n",
              "      <th>DATEn</th>\n",
              "      <th>TIMEn</th>\n",
              "      <th>ENTRIESn</th>\n",
              "      <th>EXITSn</th>\n",
              "      <th>ENTRIESn_hourly</th>\n",
              "      <th>EXITSn_hourly</th>\n",
              "      <th>datetime</th>\n",
              "      <th>hour</th>\n",
              "      <th>day_week</th>\n",
              "      <th>weekday</th>\n",
              "      <th>station</th>\n",
              "      <th>latitude</th>\n",
              "      <th>longitude</th>\n",
              "      <th>conds</th>\n",
              "      <th>fog</th>\n",
              "      <th>precipi</th>\n",
              "      <th>pressurei</th>\n",
              "      <th>rain</th>\n",
              "      <th>tempi</th>\n",
              "      <th>wspdi</th>\n",
              "      <th>meanprecipi</th>\n",
              "      <th>meanpressurei</th>\n",
              "      <th>meantempi</th>\n",
              "      <th>meanwspdi</th>\n",
              "      <th>weather_lat</th>\n",
              "      <th>weather_lon</th>\n",
              "    </tr>\n",
              "  </thead>\n",
              "  <tbody>\n",
              "    <tr>\n",
              "      <th>0</th>\n",
              "      <td>R003</td>\n",
              "      <td>05-01-11</td>\n",
              "      <td>00:00:00</td>\n",
              "      <td>4388333</td>\n",
              "      <td>2911002</td>\n",
              "      <td>0.0</td>\n",
              "      <td>0.0</td>\n",
              "      <td>2011-05-01 00:00:00</td>\n",
              "      <td>0</td>\n",
              "      <td>6</td>\n",
              "      <td>0</td>\n",
              "      <td>CYPRESS HILLS</td>\n",
              "      <td>40.689945</td>\n",
              "      <td>-73.872564</td>\n",
              "      <td>Clear</td>\n",
              "      <td>0</td>\n",
              "      <td>0.0</td>\n",
              "      <td>30.22</td>\n",
              "      <td>0</td>\n",
              "      <td>55.9</td>\n",
              "      <td>3.5</td>\n",
              "      <td>0.0</td>\n",
              "      <td>30.258</td>\n",
              "      <td>55.98</td>\n",
              "      <td>7.86</td>\n",
              "      <td>40.700348</td>\n",
              "      <td>-73.887177</td>\n",
              "    </tr>\n",
              "    <tr>\n",
              "      <th>1</th>\n",
              "      <td>R003</td>\n",
              "      <td>05-01-11</td>\n",
              "      <td>04:00:00</td>\n",
              "      <td>4388333</td>\n",
              "      <td>2911002</td>\n",
              "      <td>0.0</td>\n",
              "      <td>0.0</td>\n",
              "      <td>2011-05-01 04:00:00</td>\n",
              "      <td>4</td>\n",
              "      <td>6</td>\n",
              "      <td>0</td>\n",
              "      <td>CYPRESS HILLS</td>\n",
              "      <td>40.689945</td>\n",
              "      <td>-73.872564</td>\n",
              "      <td>Partly Cloudy</td>\n",
              "      <td>0</td>\n",
              "      <td>0.0</td>\n",
              "      <td>30.25</td>\n",
              "      <td>0</td>\n",
              "      <td>52.0</td>\n",
              "      <td>3.5</td>\n",
              "      <td>0.0</td>\n",
              "      <td>30.258</td>\n",
              "      <td>55.98</td>\n",
              "      <td>7.86</td>\n",
              "      <td>40.700348</td>\n",
              "      <td>-73.887177</td>\n",
              "    </tr>\n",
              "    <tr>\n",
              "      <th>2</th>\n",
              "      <td>R003</td>\n",
              "      <td>05-01-11</td>\n",
              "      <td>12:00:00</td>\n",
              "      <td>4388333</td>\n",
              "      <td>2911002</td>\n",
              "      <td>0.0</td>\n",
              "      <td>0.0</td>\n",
              "      <td>2011-05-01 12:00:00</td>\n",
              "      <td>12</td>\n",
              "      <td>6</td>\n",
              "      <td>0</td>\n",
              "      <td>CYPRESS HILLS</td>\n",
              "      <td>40.689945</td>\n",
              "      <td>-73.872564</td>\n",
              "      <td>Mostly Cloudy</td>\n",
              "      <td>0</td>\n",
              "      <td>0.0</td>\n",
              "      <td>30.28</td>\n",
              "      <td>0</td>\n",
              "      <td>62.1</td>\n",
              "      <td>6.9</td>\n",
              "      <td>0.0</td>\n",
              "      <td>30.258</td>\n",
              "      <td>55.98</td>\n",
              "      <td>7.86</td>\n",
              "      <td>40.700348</td>\n",
              "      <td>-73.887177</td>\n",
              "    </tr>\n",
              "    <tr>\n",
              "      <th>3</th>\n",
              "      <td>R003</td>\n",
              "      <td>05-01-11</td>\n",
              "      <td>16:00:00</td>\n",
              "      <td>4388333</td>\n",
              "      <td>2911002</td>\n",
              "      <td>0.0</td>\n",
              "      <td>0.0</td>\n",
              "      <td>2011-05-01 16:00:00</td>\n",
              "      <td>16</td>\n",
              "      <td>6</td>\n",
              "      <td>0</td>\n",
              "      <td>CYPRESS HILLS</td>\n",
              "      <td>40.689945</td>\n",
              "      <td>-73.872564</td>\n",
              "      <td>Mostly Cloudy</td>\n",
              "      <td>0</td>\n",
              "      <td>0.0</td>\n",
              "      <td>30.26</td>\n",
              "      <td>0</td>\n",
              "      <td>57.9</td>\n",
              "      <td>15.0</td>\n",
              "      <td>0.0</td>\n",
              "      <td>30.258</td>\n",
              "      <td>55.98</td>\n",
              "      <td>7.86</td>\n",
              "      <td>40.700348</td>\n",
              "      <td>-73.887177</td>\n",
              "    </tr>\n",
              "    <tr>\n",
              "      <th>4</th>\n",
              "      <td>R003</td>\n",
              "      <td>05-01-11</td>\n",
              "      <td>20:00:00</td>\n",
              "      <td>4388333</td>\n",
              "      <td>2911002</td>\n",
              "      <td>0.0</td>\n",
              "      <td>0.0</td>\n",
              "      <td>2011-05-01 20:00:00</td>\n",
              "      <td>20</td>\n",
              "      <td>6</td>\n",
              "      <td>0</td>\n",
              "      <td>CYPRESS HILLS</td>\n",
              "      <td>40.689945</td>\n",
              "      <td>-73.872564</td>\n",
              "      <td>Mostly Cloudy</td>\n",
              "      <td>0</td>\n",
              "      <td>0.0</td>\n",
              "      <td>30.28</td>\n",
              "      <td>0</td>\n",
              "      <td>52.0</td>\n",
              "      <td>10.4</td>\n",
              "      <td>0.0</td>\n",
              "      <td>30.258</td>\n",
              "      <td>55.98</td>\n",
              "      <td>7.86</td>\n",
              "      <td>40.700348</td>\n",
              "      <td>-73.887177</td>\n",
              "    </tr>\n",
              "  </tbody>\n",
              "</table>\n",
              "</div>"
            ],
            "text/plain": [
              "   UNIT     DATEn     TIMEn  ...  meanwspdi  weather_lat  weather_lon\n",
              "0  R003  05-01-11  00:00:00  ...       7.86    40.700348   -73.887177\n",
              "1  R003  05-01-11  04:00:00  ...       7.86    40.700348   -73.887177\n",
              "2  R003  05-01-11  12:00:00  ...       7.86    40.700348   -73.887177\n",
              "3  R003  05-01-11  16:00:00  ...       7.86    40.700348   -73.887177\n",
              "4  R003  05-01-11  20:00:00  ...       7.86    40.700348   -73.887177\n",
              "\n",
              "[5 rows x 27 columns]"
            ]
          },
          "metadata": {
            "tags": []
          },
          "execution_count": 5
        }
      ]
    },
    {
      "cell_type": "code",
      "metadata": {
        "colab": {
          "base_uri": "https://localhost:8080/"
        },
        "id": "MVBuBT0LJTP0",
        "outputId": "9809d422-64ae-481f-c341-ee36e0ae2535"
      },
      "source": [
        "data.shape"
      ],
      "execution_count": null,
      "outputs": [
        {
          "output_type": "execute_result",
          "data": {
            "text/plain": [
              "(42649, 27)"
            ]
          },
          "metadata": {
            "tags": []
          },
          "execution_count": 6
        }
      ]
    },
    {
      "cell_type": "markdown",
      "metadata": {
        "id": "p0_ulqhSJVRl"
      },
      "source": [
        "> Our data has 27 features and more than 40.000 records"
      ]
    },
    {
      "cell_type": "code",
      "metadata": {
        "colab": {
          "base_uri": "https://localhost:8080/"
        },
        "id": "KtkFq5u6JGoV",
        "outputId": "f169b98c-5a51-47a5-f3bc-871b66bc489a"
      },
      "source": [
        "data.columns"
      ],
      "execution_count": null,
      "outputs": [
        {
          "output_type": "execute_result",
          "data": {
            "text/plain": [
              "Index(['UNIT', 'DATEn', 'TIMEn', 'ENTRIESn', 'EXITSn', 'ENTRIESn_hourly',\n",
              "       'EXITSn_hourly', 'datetime', 'hour', 'day_week', 'weekday', 'station',\n",
              "       'latitude', 'longitude', 'conds', 'fog', 'precipi', 'pressurei', 'rain',\n",
              "       'tempi', 'wspdi', 'meanprecipi', 'meanpressurei', 'meantempi',\n",
              "       'meanwspdi', 'weather_lat', 'weather_lon'],\n",
              "      dtype='object')"
            ]
          },
          "metadata": {
            "tags": []
          },
          "execution_count": 7
        }
      ]
    },
    {
      "cell_type": "markdown",
      "metadata": {
        "id": "L0jO6PEqKbvY"
      },
      "source": [
        "`UNIT`: code of subway\n",
        "\n",
        "`DATEn`: date of the record \n",
        "\n",
        "`TIMEn`: time of the record\n",
        "\n",
        "`datetime`: datetime of the record\n",
        "\n",
        "`ENTRIESn_hourly`: the average number of entries per hour\n",
        "\n",
        "`EXITSn_hourly`: the average number of exits per hour\n",
        "\n",
        "`hour`: hour of day\n",
        "\n",
        "`day_week`: day of the week\n",
        "\n",
        "`weekday`: whether is weekend or not\n",
        "\n",
        "`station`: name of the station\n",
        "\n",
        "`latitude`: latitude of the station\n",
        "\n",
        "`longitude`: longitude of the station \n",
        "\n",
        "`conds`: conditions of the weather\n",
        "\n",
        "`fog`: has fog or not\n",
        "\n",
        "`precipitation`: the rate of precipitation\n",
        "\n",
        "`rain`: its rain or not\n",
        "\n",
        "`tempi`: tempurature\n",
        "\n",
        "`pressurei`: the pressure of air\n",
        "\n",
        "`weather_lat` and `weather_lon`: location of the weather measuring \n"
      ]
    },
    {
      "cell_type": "markdown",
      "metadata": {
        "id": "PvMj2BIHQheE"
      },
      "source": [
        "> I'm gonna drop some features which are not helpful: `longtitude`, `latitude`, `weather_lat`, `weather_lon` because this analyst focus on anaylysis the relationship among amount of subway ridership, datetime and weather conditions"
      ]
    },
    {
      "cell_type": "code",
      "metadata": {
        "id": "XL1n63R5Jo_H"
      },
      "source": [
        "data = data.drop(columns=['longitude', 'latitude', 'weather_lat', 'weather_lon'])"
      ],
      "execution_count": null,
      "outputs": []
    },
    {
      "cell_type": "code",
      "metadata": {
        "colab": {
          "base_uri": "https://localhost:8080/"
        },
        "id": "Xw0RUiinRUaI",
        "outputId": "0ab14673-577a-47a4-e12d-27f1f5bd3917"
      },
      "source": [
        "data.shape"
      ],
      "execution_count": null,
      "outputs": [
        {
          "output_type": "execute_result",
          "data": {
            "text/plain": [
              "(42649, 23)"
            ]
          },
          "metadata": {
            "tags": []
          },
          "execution_count": 10
        }
      ]
    },
    {
      "cell_type": "markdown",
      "metadata": {
        "id": "AgjAv_37UV5a"
      },
      "source": [
        "> See data type:"
      ]
    },
    {
      "cell_type": "code",
      "metadata": {
        "colab": {
          "base_uri": "https://localhost:8080/"
        },
        "id": "LMfdRmHuT6Xf",
        "outputId": "5f0254b2-0134-4e29-9ef3-c6e1a14199da"
      },
      "source": [
        "data.dtypes"
      ],
      "execution_count": null,
      "outputs": [
        {
          "output_type": "execute_result",
          "data": {
            "text/plain": [
              "UNIT                object\n",
              "DATEn               object\n",
              "TIMEn               object\n",
              "ENTRIESn             int64\n",
              "EXITSn               int64\n",
              "ENTRIESn_hourly    float64\n",
              "EXITSn_hourly      float64\n",
              "datetime            object\n",
              "hour                 int64\n",
              "day_week             int64\n",
              "weekday              int64\n",
              "station             object\n",
              "conds               object\n",
              "fog                  int64\n",
              "precipi            float64\n",
              "pressurei          float64\n",
              "rain                 int64\n",
              "tempi              float64\n",
              "wspdi              float64\n",
              "meanprecipi        float64\n",
              "meanpressurei      float64\n",
              "meantempi          float64\n",
              "meanwspdi          float64\n",
              "dtype: object"
            ]
          },
          "metadata": {
            "tags": []
          },
          "execution_count": 16
        }
      ]
    },
    {
      "cell_type": "markdown",
      "metadata": {
        "id": "S5wczBiMUD6k"
      },
      "source": [
        "> Only `UNIT`, `DATEn`, `TIMEn`, `datetime` and `conds` are categorical variables. \n",
        "\n",
        "> The rests are numerical variables"
      ]
    },
    {
      "cell_type": "markdown",
      "metadata": {
        "id": "N17bXe6UVTbQ"
      },
      "source": [
        "### Non-graphical Univariate Analysis"
      ]
    },
    {
      "cell_type": "markdown",
      "metadata": {
        "id": "MCzY__c2VjAf"
      },
      "source": [
        "> `UNIT`"
      ]
    },
    {
      "cell_type": "code",
      "metadata": {
        "colab": {
          "base_uri": "https://localhost:8080/"
        },
        "id": "6okZ5L26Vbkf",
        "outputId": "e398aa83-1149-43bc-c0e6-72480af1756e"
      },
      "source": [
        "data['UNIT'].value_counts()"
      ],
      "execution_count": null,
      "outputs": [
        {
          "output_type": "execute_result",
          "data": {
            "text/plain": [
              "R057    186\n",
              "R111    186\n",
              "R137    186\n",
              "R030    186\n",
              "R172    186\n",
              "       ... \n",
              "R453    162\n",
              "R277    160\n",
              "R260    156\n",
              "R295    138\n",
              "R459     88\n",
              "Name: UNIT, Length: 240, dtype: int64"
            ]
          },
          "metadata": {
            "tags": []
          },
          "execution_count": 11
        }
      ]
    },
    {
      "cell_type": "markdown",
      "metadata": {
        "id": "vM3eSL_bVz76"
      },
      "source": [
        "> `conds`"
      ]
    },
    {
      "cell_type": "code",
      "metadata": {
        "colab": {
          "base_uri": "https://localhost:8080/"
        },
        "id": "HUPvm-Y7VwUb",
        "outputId": "7896a66f-54a0-4ac4-aa96-1d8e96001c80"
      },
      "source": [
        "data['conds'].value_counts()"
      ],
      "execution_count": null,
      "outputs": [
        {
          "output_type": "execute_result",
          "data": {
            "text/plain": [
              "Clear               13594\n",
              "Overcast            11975\n",
              "Mostly Cloudy        6491\n",
              "Scattered Clouds     3489\n",
              "Partly Cloudy        2220\n",
              "Light Rain           1880\n",
              "Haze                 1345\n",
              "Rain                  961\n",
              "Light Drizzle         335\n",
              "Heavy Rain            288\n",
              "Fog                    47\n",
              "Mist                   24\n",
              "Name: conds, dtype: int64"
            ]
          },
          "metadata": {
            "tags": []
          },
          "execution_count": 12
        }
      ]
    },
    {
      "cell_type": "markdown",
      "metadata": {
        "id": "7sb_e2tAVTWA"
      },
      "source": [
        "Most of times the weather is clear and overcast. "
      ]
    },
    {
      "cell_type": "markdown",
      "metadata": {
        "id": "qzpYCIoeRhtc"
      },
      "source": [
        "> Now, we're gonna see the values distribution of features"
      ]
    },
    {
      "cell_type": "code",
      "metadata": {
        "colab": {
          "base_uri": "https://localhost:8080/",
          "height": 320
        },
        "id": "IDwy77-yRYVW",
        "outputId": "ebef9dfa-4223-485e-88e3-6e2686ed0e08"
      },
      "source": [
        "data.describe()"
      ],
      "execution_count": null,
      "outputs": [
        {
          "output_type": "execute_result",
          "data": {
            "text/html": [
              "<div>\n",
              "<style scoped>\n",
              "    .dataframe tbody tr th:only-of-type {\n",
              "        vertical-align: middle;\n",
              "    }\n",
              "\n",
              "    .dataframe tbody tr th {\n",
              "        vertical-align: top;\n",
              "    }\n",
              "\n",
              "    .dataframe thead th {\n",
              "        text-align: right;\n",
              "    }\n",
              "</style>\n",
              "<table border=\"1\" class=\"dataframe\">\n",
              "  <thead>\n",
              "    <tr style=\"text-align: right;\">\n",
              "      <th></th>\n",
              "      <th>ENTRIESn</th>\n",
              "      <th>EXITSn</th>\n",
              "      <th>ENTRIESn_hourly</th>\n",
              "      <th>EXITSn_hourly</th>\n",
              "      <th>hour</th>\n",
              "      <th>day_week</th>\n",
              "      <th>weekday</th>\n",
              "      <th>fog</th>\n",
              "      <th>precipi</th>\n",
              "      <th>pressurei</th>\n",
              "      <th>rain</th>\n",
              "      <th>tempi</th>\n",
              "      <th>wspdi</th>\n",
              "      <th>meanprecipi</th>\n",
              "      <th>meanpressurei</th>\n",
              "      <th>meantempi</th>\n",
              "      <th>meanwspdi</th>\n",
              "    </tr>\n",
              "  </thead>\n",
              "  <tbody>\n",
              "    <tr>\n",
              "      <th>count</th>\n",
              "      <td>4.264900e+04</td>\n",
              "      <td>4.264900e+04</td>\n",
              "      <td>42649.000000</td>\n",
              "      <td>42649.000000</td>\n",
              "      <td>42649.000000</td>\n",
              "      <td>42649.000000</td>\n",
              "      <td>42649.000000</td>\n",
              "      <td>42649.000000</td>\n",
              "      <td>42649.000000</td>\n",
              "      <td>42649.000000</td>\n",
              "      <td>42649.000000</td>\n",
              "      <td>42649.000000</td>\n",
              "      <td>42649.000000</td>\n",
              "      <td>42649.000000</td>\n",
              "      <td>42649.000000</td>\n",
              "      <td>42649.000000</td>\n",
              "      <td>42649.000000</td>\n",
              "    </tr>\n",
              "    <tr>\n",
              "      <th>mean</th>\n",
              "      <td>2.812486e+07</td>\n",
              "      <td>1.986993e+07</td>\n",
              "      <td>1886.589955</td>\n",
              "      <td>1361.487866</td>\n",
              "      <td>10.046754</td>\n",
              "      <td>2.905719</td>\n",
              "      <td>0.714436</td>\n",
              "      <td>0.009824</td>\n",
              "      <td>0.004618</td>\n",
              "      <td>29.971096</td>\n",
              "      <td>0.224741</td>\n",
              "      <td>63.103780</td>\n",
              "      <td>6.927872</td>\n",
              "      <td>0.004618</td>\n",
              "      <td>29.971096</td>\n",
              "      <td>63.103780</td>\n",
              "      <td>6.927872</td>\n",
              "    </tr>\n",
              "    <tr>\n",
              "      <th>std</th>\n",
              "      <td>3.043607e+07</td>\n",
              "      <td>2.028986e+07</td>\n",
              "      <td>2952.385585</td>\n",
              "      <td>2183.845409</td>\n",
              "      <td>6.938928</td>\n",
              "      <td>2.079231</td>\n",
              "      <td>0.451688</td>\n",
              "      <td>0.098631</td>\n",
              "      <td>0.025832</td>\n",
              "      <td>0.137942</td>\n",
              "      <td>0.417417</td>\n",
              "      <td>8.455597</td>\n",
              "      <td>4.510178</td>\n",
              "      <td>0.016344</td>\n",
              "      <td>0.131158</td>\n",
              "      <td>6.939011</td>\n",
              "      <td>3.179832</td>\n",
              "    </tr>\n",
              "    <tr>\n",
              "      <th>min</th>\n",
              "      <td>0.000000e+00</td>\n",
              "      <td>0.000000e+00</td>\n",
              "      <td>0.000000</td>\n",
              "      <td>0.000000</td>\n",
              "      <td>0.000000</td>\n",
              "      <td>0.000000</td>\n",
              "      <td>0.000000</td>\n",
              "      <td>0.000000</td>\n",
              "      <td>0.000000</td>\n",
              "      <td>29.550000</td>\n",
              "      <td>0.000000</td>\n",
              "      <td>46.900000</td>\n",
              "      <td>0.000000</td>\n",
              "      <td>0.000000</td>\n",
              "      <td>29.590000</td>\n",
              "      <td>49.400000</td>\n",
              "      <td>0.000000</td>\n",
              "    </tr>\n",
              "    <tr>\n",
              "      <th>25%</th>\n",
              "      <td>1.039762e+07</td>\n",
              "      <td>7.613712e+06</td>\n",
              "      <td>274.000000</td>\n",
              "      <td>237.000000</td>\n",
              "      <td>4.000000</td>\n",
              "      <td>1.000000</td>\n",
              "      <td>0.000000</td>\n",
              "      <td>0.000000</td>\n",
              "      <td>0.000000</td>\n",
              "      <td>29.890000</td>\n",
              "      <td>0.000000</td>\n",
              "      <td>57.000000</td>\n",
              "      <td>4.600000</td>\n",
              "      <td>0.000000</td>\n",
              "      <td>29.913333</td>\n",
              "      <td>58.283333</td>\n",
              "      <td>4.816667</td>\n",
              "    </tr>\n",
              "    <tr>\n",
              "      <th>50%</th>\n",
              "      <td>1.818389e+07</td>\n",
              "      <td>1.331609e+07</td>\n",
              "      <td>905.000000</td>\n",
              "      <td>664.000000</td>\n",
              "      <td>12.000000</td>\n",
              "      <td>3.000000</td>\n",
              "      <td>1.000000</td>\n",
              "      <td>0.000000</td>\n",
              "      <td>0.000000</td>\n",
              "      <td>29.960000</td>\n",
              "      <td>0.000000</td>\n",
              "      <td>61.000000</td>\n",
              "      <td>6.900000</td>\n",
              "      <td>0.000000</td>\n",
              "      <td>29.958000</td>\n",
              "      <td>60.950000</td>\n",
              "      <td>6.166667</td>\n",
              "    </tr>\n",
              "    <tr>\n",
              "      <th>75%</th>\n",
              "      <td>3.263049e+07</td>\n",
              "      <td>2.393771e+07</td>\n",
              "      <td>2255.000000</td>\n",
              "      <td>1537.000000</td>\n",
              "      <td>16.000000</td>\n",
              "      <td>5.000000</td>\n",
              "      <td>1.000000</td>\n",
              "      <td>0.000000</td>\n",
              "      <td>0.000000</td>\n",
              "      <td>30.060000</td>\n",
              "      <td>0.000000</td>\n",
              "      <td>69.100000</td>\n",
              "      <td>9.200000</td>\n",
              "      <td>0.000000</td>\n",
              "      <td>30.060000</td>\n",
              "      <td>67.466667</td>\n",
              "      <td>8.850000</td>\n",
              "    </tr>\n",
              "    <tr>\n",
              "      <th>max</th>\n",
              "      <td>2.357746e+08</td>\n",
              "      <td>1.493782e+08</td>\n",
              "      <td>32814.000000</td>\n",
              "      <td>34828.000000</td>\n",
              "      <td>20.000000</td>\n",
              "      <td>6.000000</td>\n",
              "      <td>1.000000</td>\n",
              "      <td>1.000000</td>\n",
              "      <td>0.300000</td>\n",
              "      <td>30.320000</td>\n",
              "      <td>1.000000</td>\n",
              "      <td>86.000000</td>\n",
              "      <td>23.000000</td>\n",
              "      <td>0.157500</td>\n",
              "      <td>30.293333</td>\n",
              "      <td>79.800000</td>\n",
              "      <td>17.083333</td>\n",
              "    </tr>\n",
              "  </tbody>\n",
              "</table>\n",
              "</div>"
            ],
            "text/plain": [
              "           ENTRIESn        EXITSn  ...     meantempi     meanwspdi\n",
              "count  4.264900e+04  4.264900e+04  ...  42649.000000  42649.000000\n",
              "mean   2.812486e+07  1.986993e+07  ...     63.103780      6.927872\n",
              "std    3.043607e+07  2.028986e+07  ...      6.939011      3.179832\n",
              "min    0.000000e+00  0.000000e+00  ...     49.400000      0.000000\n",
              "25%    1.039762e+07  7.613712e+06  ...     58.283333      4.816667\n",
              "50%    1.818389e+07  1.331609e+07  ...     60.950000      6.166667\n",
              "75%    3.263049e+07  2.393771e+07  ...     67.466667      8.850000\n",
              "max    2.357746e+08  1.493782e+08  ...     79.800000     17.083333\n",
              "\n",
              "[8 rows x 17 columns]"
            ]
          },
          "metadata": {
            "tags": []
          },
          "execution_count": 13
        }
      ]
    },
    {
      "cell_type": "code",
      "metadata": {
        "colab": {
          "base_uri": "https://localhost:8080/"
        },
        "id": "RV6vT2R-ShMB",
        "outputId": "ce821cbf-4e62-4a7e-9c37-849da83b0fb0"
      },
      "source": [
        "sum(data['ENTRIESn_hourly'] == 0)"
      ],
      "execution_count": null,
      "outputs": [
        {
          "output_type": "execute_result",
          "data": {
            "text/plain": [
              "897"
            ]
          },
          "metadata": {
            "tags": []
          },
          "execution_count": 14
        }
      ]
    },
    {
      "cell_type": "markdown",
      "metadata": {
        "id": "DRbhT2PDR25R"
      },
      "source": [
        "> Our data seems correctly except there's are 897 records has zero value of `ENTRIESn_hourly` and `EXITSn_hourly` maybe due to maintenance. \n",
        "> I will drop these records\n"
      ]
    },
    {
      "cell_type": "code",
      "metadata": {
        "id": "QskZKNKdpGAK"
      },
      "source": [
        "data = data.loc[(data['ENTRIESn_hourly']>0)]"
      ],
      "execution_count": null,
      "outputs": []
    },
    {
      "cell_type": "code",
      "metadata": {
        "colab": {
          "base_uri": "https://localhost:8080/"
        },
        "id": "x-E6f0dcqunw",
        "outputId": "8077a9e6-8981-4f5e-b233-4e2a5e517c11"
      },
      "source": [
        "data.shape"
      ],
      "execution_count": null,
      "outputs": [
        {
          "output_type": "execute_result",
          "data": {
            "text/plain": [
              "(41752, 23)"
            ]
          },
          "metadata": {
            "tags": []
          },
          "execution_count": 16
        }
      ]
    },
    {
      "cell_type": "code",
      "metadata": {
        "colab": {
          "base_uri": "https://localhost:8080/"
        },
        "id": "FlBF9zW_RrpN",
        "outputId": "418ede76-11d2-434e-b5de-c332b3755ce5"
      },
      "source": [
        "data.isnull().sum()"
      ],
      "execution_count": null,
      "outputs": [
        {
          "output_type": "execute_result",
          "data": {
            "text/plain": [
              "UNIT               0\n",
              "DATEn              0\n",
              "TIMEn              0\n",
              "ENTRIESn           0\n",
              "EXITSn             0\n",
              "ENTRIESn_hourly    0\n",
              "EXITSn_hourly      0\n",
              "datetime           0\n",
              "hour               0\n",
              "day_week           0\n",
              "weekday            0\n",
              "station            0\n",
              "conds              0\n",
              "fog                0\n",
              "precipi            0\n",
              "pressurei          0\n",
              "rain               0\n",
              "tempi              0\n",
              "wspdi              0\n",
              "meanprecipi        0\n",
              "meanpressurei      0\n",
              "meantempi          0\n",
              "meanwspdi          0\n",
              "dtype: int64"
            ]
          },
          "metadata": {
            "tags": []
          },
          "execution_count": 17
        }
      ]
    },
    {
      "cell_type": "markdown",
      "metadata": {
        "id": "ZnrtZpioS-KH"
      },
      "source": [
        "> Luckily, There's no missing value!"
      ]
    },
    {
      "cell_type": "markdown",
      "metadata": {
        "id": "NyOp9yVhUbmv"
      },
      "source": [
        "### Graphical Univariate Analysis"
      ]
    },
    {
      "cell_type": "markdown",
      "metadata": {
        "id": "0R__PCtbWk1w"
      },
      "source": [
        "> We're gonna visualize data to have better observation!"
      ]
    },
    {
      "cell_type": "code",
      "metadata": {
        "colab": {
          "base_uri": "https://localhost:8080/",
          "height": 406
        },
        "id": "nz0kLIC_Wkme",
        "outputId": "ecb8e9f9-7d7d-40c5-c5e3-09916e8eec66"
      },
      "source": [
        "data['ENTRIESn_hourly'].hist(bins=25, figsize=(10,6))\n",
        "plt.xlabel('Number of hours')\n",
        "plt.ylabel('Number of entries')"
      ],
      "execution_count": null,
      "outputs": [
        {
          "output_type": "execute_result",
          "data": {
            "text/plain": [
              "Text(0, 0.5, 'Number of entries')"
            ]
          },
          "metadata": {
            "tags": []
          },
          "execution_count": 19
        },
        {
          "output_type": "display_data",
          "data": {
            "image/png": "[encoded data removed]",
            "text/plain": [
              "<Figure size 720x432 with 1 Axes>"
            ]
          },
          "metadata": {
            "tags": [],
            "needs_background": "light"
          }
        }
      ]
    },
    {
      "cell_type": "code",
      "metadata": {
        "colab": {
          "base_uri": "https://localhost:8080/",
          "height": 406
        },
        "id": "EXEoGjW_S8HU",
        "outputId": "531e4d33-d900-4473-ff89-fca62ab93ad4"
      },
      "source": [
        "data['EXITSn_hourly'].hist(bins=25, figsize=(10,6))\n",
        "plt.xlabel('Number of hours')\n",
        "plt.ylabel('Number of entries')"
      ],
      "execution_count": null,
      "outputs": [
        {
          "output_type": "execute_result",
          "data": {
            "text/plain": [
              "Text(0, 0.5, 'Number of entries')"
            ]
          },
          "metadata": {
            "tags": []
          },
          "execution_count": 20
        },
        {
          "output_type": "display_data",
          "data": {
            "image/png": "[encoded data removed]",
            "text/plain": [
              "<Figure size 720x432 with 1 Axes>"
            ]
          },
          "metadata": {
            "tags": [],
            "needs_background": "light"
          }
        }
      ]
    },
    {
      "cell_type": "code",
      "metadata": {
        "id": "_1whsgzDXKVf"
      },
      "source": [
        "import seaborn as sns\n",
        "import matplotlib.pyplot as plt"
      ],
      "execution_count": null,
      "outputs": []
    },
    {
      "cell_type": "code",
      "metadata": {
        "colab": {
          "base_uri": "https://localhost:8080/",
          "height": 572
        },
        "id": "lHNDDWltYgra",
        "outputId": "50446868-c526-48e1-85ed-c9585480a36b"
      },
      "source": [
        "fig_dims = (20, 8)\n",
        "\n",
        "fig, ax = plt.subplots(figsize=fig_dims)\n",
        "sns.countplot(data['conds'], ax=ax)\n"
      ],
      "execution_count": null,
      "outputs": [
        {
          "output_type": "stream",
          "text": [
            "/usr/local/lib/python3.7/dist-packages/seaborn/_decorators.py:43: FutureWarning: Pass the following variable as a keyword arg: x. From version 0.12, the only valid positional argument will be `data`, and passing other arguments without an explicit keyword will result in an error or misinterpretation.\n",
            "  FutureWarning\n"
          ],
          "name": "stderr"
        },
        {
          "output_type": "execute_result",
          "data": {
            "text/plain": [
              "<matplotlib.axes._subplots.AxesSubplot at 0x7f099bc52c10>"
            ]
          },
          "metadata": {
            "tags": []
          },
          "execution_count": 23
        },
        {
          "output_type": "display_data",
          "data": {
            "image/png": "[encoded data removed]",
            "text/plain": [
              "<Figure size 1440x576 with 1 Axes>"
            ]
          },
          "metadata": {
            "tags": [],
            "needs_background": "light"
          }
        }
      ]
    },
    {
      "cell_type": "markdown",
      "metadata": {
        "id": "6y1E0xwffFAF"
      },
      "source": [
        "## Hypothesis Testing"
      ]
    },
    {
      "cell_type": "markdown",
      "metadata": {
        "id": "2g-8aSfVdoGD"
      },
      "source": [
        "> Above are general views of our data\n",
        "\n",
        "> Now, we will down deeper to get the sight of data"
      ]
    },
    {
      "cell_type": "markdown",
      "metadata": {
        "id": "Q9akr8UkeznN"
      },
      "source": [
        "> To do this, I will make some assumptions\n",
        "\n"
      ]
    },
    {
      "cell_type": "markdown",
      "metadata": {
        "id": "up502Qz8fr6P"
      },
      "source": [
        "### 1. The rainning effects the amount of subway ridership "
      ]
    },
    {
      "cell_type": "markdown",
      "metadata": {
        "id": "zomAn5T3mkA0"
      },
      "source": [
        "> Null hypotheis: There's no significant different between the means of two group: entries with rain and entries without rain\n",
        "\n",
        "> My hypothesis: There's a significant different between the means of two group. "
      ]
    },
    {
      "cell_type": "code",
      "metadata": {
        "id": "yYiOYUVsYkVP"
      },
      "source": [
        "rain_data = data[data['rain']==1][['ENTRIESn_hourly']]\n",
        "non_rain_data = data[data['rain']==0][['ENTRIESn_hourly']]"
      ],
      "execution_count": null,
      "outputs": []
    },
    {
      "cell_type": "code",
      "metadata": {
        "colab": {
          "base_uri": "https://localhost:8080/",
          "height": 407
        },
        "id": "JHVOBv9iktEf",
        "outputId": "f8cac3de-d203-44f2-97db-bcaf4cf3865a"
      },
      "source": [
        "rain_data['ENTRIESn_hourly'].hist(bins=25, figsize=(10,6))\n",
        "plt.xlabel('ENTRIESn_hourly')\n",
        "plt.ylabel('Frequency')"
      ],
      "execution_count": null,
      "outputs": [
        {
          "output_type": "execute_result",
          "data": {
            "text/plain": [
              "Text(0, 0.5, 'Frequency')"
            ]
          },
          "metadata": {
            "tags": []
          },
          "execution_count": 36
        },
        {
          "output_type": "display_data",
          "data": {
            "image/png": "[encoded data removed]",
            "text/plain": [
              "<Figure size 720x432 with 1 Axes>"
            ]
          },
          "metadata": {
            "tags": [],
            "needs_background": "light"
          }
        }
      ]
    },
    {
      "cell_type": "code",
      "metadata": {
        "colab": {
          "base_uri": "https://localhost:8080/",
          "height": 407
        },
        "id": "4lW-1LlTkFxA",
        "outputId": "504cbb91-82ae-4256-bf42-47a37cfa365e"
      },
      "source": [
        "non_rain_data['ENTRIESn_hourly'].hist(bins=25, figsize=(10,6))\n",
        "plt.xlabel('ENTRIESn_hourly')\n",
        "plt.ylabel('Frequency')"
      ],
      "execution_count": null,
      "outputs": [
        {
          "output_type": "execute_result",
          "data": {
            "text/plain": [
              "Text(0, 0.5, 'Frequency')"
            ]
          },
          "metadata": {
            "tags": []
          },
          "execution_count": 34
        },
        {
          "output_type": "display_data",
          "data": {
            "image/png": "[encoded data removed]",
            "text/plain": [
              "<Figure size 720x432 with 1 Axes>"
            ]
          },
          "metadata": {
            "tags": [],
            "needs_background": "light"
          }
        }
      ]
    },
    {
      "cell_type": "markdown",
      "metadata": {
        "id": "QlUlvJr3mM9U"
      },
      "source": [
        "We can see that the amount of entries does not follow normal distribution\n",
        "\n",
        "> To handle this, I run a non parameter test. A test doesn't assume data fits specific distribution type. I use Kruskal test "
      ]
    },
    {
      "cell_type": "code",
      "metadata": {
        "colab": {
          "base_uri": "https://localhost:8080/"
        },
        "id": "2a9SXAnykpwR",
        "outputId": "167be0d4-6e69-4041-f18f-945dec41f4e6"
      },
      "source": [
        "from scipy import stats\n",
        "print('Mean entries with rain:', rain_data['ENTRIESn_hourly'].mean())\n",
        "print('Mean entries without rain:', non_rain_data['ENTRIESn_hourly'].mean())\n",
        "stats.kruskal(rain_data, non_rain_data)"
      ],
      "execution_count": null,
      "outputs": [
        {
          "output_type": "stream",
          "text": [
            "Mean entries with rain: 2056.7349767245028\n",
            "Mean entries without rain: 1889.1924458204335\n"
          ],
          "name": "stdout"
        },
        {
          "output_type": "execute_result",
          "data": {
            "text/plain": [
              "KruskalResult(statistic=10.636631159885614, pvalue=0.0011086945155163392)"
            ]
          },
          "metadata": {
            "tags": []
          },
          "execution_count": 27
        }
      ]
    },
    {
      "cell_type": "markdown",
      "metadata": {
        "id": "zvyo932bvnrR"
      },
      "source": [
        "> **p_value < 0.05, so I reject Null hypothesis and accept my hypothesis that entries is statistically different between rain and non_rain day**"
      ]
    },
    {
      "cell_type": "markdown",
      "metadata": {
        "id": "_7T3DyUnrqCI"
      },
      "source": [
        "> So now, We know that raining has affection on the amount of entries "
      ]
    },
    {
      "cell_type": "code",
      "metadata": {
        "id": "pUi-BAhcwbsq",
        "colab": {
          "base_uri": "https://localhost:8080/",
          "height": 495
        },
        "outputId": "523280de-7371-4713-e6a1-eb69d985c6aa"
      },
      "source": [
        "import matplotlib.pyplot as plt\n",
        "\n",
        "non_rain_data['ENTRIESn_hourly'].hist(range = [0, 6000], bins=25, figsize=(12,7), label='Non Rain')\n",
        "rain_data['ENTRIESn_hourly'].hist(range = [0, 6000], bins = 25, label='Rain')\n",
        "\n",
        "plt.title('Histogram of ENTRIESn hourly')\n",
        "plt.xlabel('ENTRIESn hourly')\n",
        "plt.ylabel('Frequency')\n",
        "plt.legend()\n",
        "\n",
        "plt.figure()"
      ],
      "execution_count": null,
      "outputs": [
        {
          "output_type": "execute_result",
          "data": {
            "text/plain": [
              "<Figure size 432x288 with 0 Axes>"
            ]
          },
          "metadata": {
            "tags": []
          },
          "execution_count": 84
        },
        {
          "output_type": "display_data",
          "data": {
            "image/png": "[encoded data removed]",
            "text/plain": [
              "<Figure size 864x504 with 1 Axes>"
            ]
          },
          "metadata": {
            "tags": [],
            "needs_background": "light"
          }
        },
        {
          "output_type": "display_data",
          "data": {
            "text/plain": [
              "<Figure size 432x288 with 0 Axes>"
            ]
          },
          "metadata": {
            "tags": []
          }
        }
      ]
    },
    {
      "cell_type": "markdown",
      "metadata": {
        "id": "vHjqe7XT7YTY"
      },
      "source": [
        "### 2. Time of the day effects the amount subway ridership"
      ]
    },
    {
      "cell_type": "markdown",
      "metadata": {
        "id": "xxDrhmjd88vo"
      },
      "source": [
        "> Now, we're gonna make assumption of whether time of the day effects the entries"
      ]
    },
    {
      "cell_type": "code",
      "metadata": {
        "colab": {
          "base_uri": "https://localhost:8080/"
        },
        "id": "GbSHlahXu3qY",
        "outputId": "260b0651-bb1c-41ff-a003-adda91089832"
      },
      "source": [
        "data['hour'].value_counts()"
      ],
      "execution_count": null,
      "outputs": [
        {
          "output_type": "execute_result",
          "data": {
            "text/plain": [
              "0     7243\n",
              "12    7215\n",
              "20    7210\n",
              "4     7192\n",
              "16    7164\n",
              "8     5728\n",
              "Name: hour, dtype: int64"
            ]
          },
          "metadata": {
            "tags": []
          },
          "execution_count": 38
        }
      ]
    },
    {
      "cell_type": "code",
      "metadata": {
        "colab": {
          "base_uri": "https://localhost:8080/",
          "height": 319
        },
        "id": "UhX5zwB44Vq2",
        "outputId": "a54e2974-1abe-445b-bd50-1a6f13a58c64"
      },
      "source": [
        "sns.set_theme(style=\"whitegrid\")\n",
        "ax = sns.barplot(x=\"hour\", y=\"ENTRIESn_hourly\", data=data)\n",
        "ax.set_title('Mean entries by hour')"
      ],
      "execution_count": null,
      "outputs": [
        {
          "output_type": "execute_result",
          "data": {
            "text/plain": [
              "Text(0.5, 1.0, 'Mean entries by hour')"
            ]
          },
          "metadata": {
            "tags": []
          },
          "execution_count": 55
        },
        {
          "output_type": "display_data",
          "data": {
            "image/png": "[encoded data removed]",
            "text/plain": [
              "<Figure size 432x288 with 1 Axes>"
            ]
          },
          "metadata": {
            "tags": []
          }
        }
      ]
    },
    {
      "cell_type": "code",
      "metadata": {
        "colab": {
          "base_uri": "https://localhost:8080/",
          "height": 791
        },
        "id": "Thp8EzZ59_Tm",
        "outputId": "dd5643f0-ee57-495e-a1e5-fe9b597b125b"
      },
      "source": [
        "fig, axs = plt.subplots(2,2, figsize=(15,12))\n",
        "\n",
        "axs[0][0].hist(data[data['hour']==0]['ENTRIESn_hourly'], range=[0,6000])\n",
        "axs[0][0].set_xlabel('ENTRIES')\n",
        "axs[0][0].set_ylabel('Frequency')\n",
        "axs[0][0].set_title('Histogram of ENTRIES at 0AM')\n",
        "\n",
        "axs[0][1].hist(data[data['hour']==4]['ENTRIESn_hourly'], range=[0,6000])\n",
        "axs[0][1].set_xlabel('ENTRIES')\n",
        "axs[0][1].set_ylabel('Frequency')\n",
        "axs[0][1].set_title('Histogram of ENTRIES at 4AM')\n",
        "\n",
        "axs[1][0].hist(data[data['hour']==8]['ENTRIESn_hourly'], range=[0,6000])\n",
        "axs[1][0].set_xlabel('ENTRIES')\n",
        "axs[1][0].set_ylabel('Frequency')\n",
        "axs[1][0].set_title('Histogram of ENTRIES at 8AM')\n",
        "\n",
        "axs[1][1].hist(data[data['hour']==12]['ENTRIESn_hourly'], range=[0,6000])\n",
        "axs[1][1].set_xlabel('ENTRIES')\n",
        "axs[1][1].set_ylabel('Frequency')\n",
        "axs[1][1].set_title('Histogram of ENTRIES at 12AM')\n",
        "\n",
        "plt.legend()\n",
        "\n",
        "plt.figure()"
      ],
      "execution_count": null,
      "outputs": [
        {
          "output_type": "stream",
          "text": [
            "No handles with labels found to put in legend.\n"
          ],
          "name": "stderr"
        },
        {
          "output_type": "execute_result",
          "data": {
            "text/plain": [
              "<Figure size 432x288 with 0 Axes>"
            ]
          },
          "metadata": {
            "tags": []
          },
          "execution_count": 92
        },
        {
          "output_type": "display_data",
          "data": {
            "image/png": "[encoded data removed]",
            "text/plain": [
              "<Figure size 1080x864 with 4 Axes>"
            ]
          },
          "metadata": {
            "tags": []
          }
        },
        {
          "output_type": "display_data",
          "data": {
            "text/plain": [
              "<Figure size 432x288 with 0 Axes>"
            ]
          },
          "metadata": {
            "tags": []
          }
        }
      ]
    },
    {
      "cell_type": "markdown",
      "metadata": {
        "id": "5qdJg4VbLtY0"
      },
      "source": [
        "> Entries at different times of day do not follow normal distribution\n",
        "\n",
        "> So, I use non-parameter test: kruskal test. \n",
        "\n",
        "> Null hypotheis: There's no significant different between the means of each group: entries with rain and entries without rain \n",
        "\n",
        "> My hypothesis: There's a significant different between the means of each group.\n",
        "\n",
        "\n",
        "\n"
      ]
    },
    {
      "cell_type": "code",
      "metadata": {
        "colab": {
          "base_uri": "https://localhost:8080/"
        },
        "id": "crBZ4MAj5rjE",
        "outputId": "50be3832-cb88-4574-a2fc-39f884911c41"
      },
      "source": [
        "stats.kruskal(data[data['hour']==0]['ENTRIESn_hourly'],data[data['hour']==4]['ENTRIESn_hourly'], data[data['hour']==12]['ENTRIESn_hourly'])"
      ],
      "execution_count": null,
      "outputs": [
        {
          "output_type": "execute_result",
          "data": {
            "text/plain": [
              "KruskalResult(statistic=10602.119350986148, pvalue=0.0)"
            ]
          },
          "metadata": {
            "tags": []
          },
          "execution_count": 93
        }
      ]
    },
    {
      "cell_type": "markdown",
      "metadata": {
        "id": "iCNlWbx9M_-E"
      },
      "source": [
        "> **My p_value < 0.05 so I reject Null hypothesis and accept the hypothesis that time of the day effects the entries of subway**"
      ]
    },
    {
      "cell_type": "markdown",
      "metadata": {
        "id": "RnxOUydHNXw-"
      },
      "source": [
        "### 3. Day of week effects on the amount subway ridership"
      ]
    },
    {
      "cell_type": "code",
      "metadata": {
        "colab": {
          "base_uri": "https://localhost:8080/",
          "height": 1000
        },
        "id": "2JP_Ok6ZNgvM",
        "outputId": "0d6c749f-defd-4363-d877-4d19a81d1312"
      },
      "source": [
        "fig, axs = plt.subplots(2,2, figsize=(20,12))\n",
        "\n",
        "axs[0][0].hist(data[data['day_week']==1]['ENTRIESn_hourly'], range=[0,6000])\n",
        "axs[0][0].set_xlabel('ENTRIES')\n",
        "axs[0][0].set_ylabel('Frequency')\n",
        "axs[0][0].set_title('Histogram of ENTRIES on Monday')\n",
        "\n",
        "axs[0][1].hist(data[data['day_week']==2]['ENTRIESn_hourly'], range=[0,6000])\n",
        "axs[0][1].set_xlabel('ENTRIES')\n",
        "axs[0][1].set_ylabel('Frequency')\n",
        "axs[0][1].set_title('Histogram of ENTRIES on Tuesday')\n",
        "\n",
        "axs[1][0].hist(data[data['day_week']==3]['ENTRIESn_hourly'], range=[0,6000])\n",
        "axs[1][0].set_xlabel('ENTRIES')\n",
        "axs[1][0].set_ylabel('Frequency')\n",
        "axs[1][0].set_title('Histogram of ENTRIES on Wednesday')\n",
        "\n",
        "axs[1][1].hist(data[data['day_week']==4]['ENTRIESn_hourly'], range=[0,6000])\n",
        "axs[1][1].set_xlabel('ENTRIES')\n",
        "axs[1][1].set_ylabel('Frequency')\n",
        "axs[1][1].set_title('Histogram of ENTRIES on Thursday')\n",
        "plt.legend()\n",
        "\n",
        "plt.figure()\n",
        "\n",
        "fig, axs = plt.subplots(1,3, figsize=(20,5))\n",
        "\n",
        "axs[0].hist(data[data['day_week']==5]['ENTRIESn_hourly'], range=[0,6000])\n",
        "axs[0].set_xlabel('ENTRIES')\n",
        "axs[0].set_ylabel('Frequency')\n",
        "axs[0].set_title('Histogram of ENTRIES on Friday')\n",
        "\n",
        "axs[1].hist(data[data['day_week']==6]['ENTRIESn_hourly'], range=[0,6000])\n",
        "axs[1].set_xlabel('ENTRIES')\n",
        "axs[1].set_ylabel('Frequency')\n",
        "axs[1].set_title('Histogram of ENTRIES on Saturday')\n",
        "\n",
        "axs[2].hist(data[data['day_week']==0]['ENTRIESn_hourly'], range=[0,6000])\n",
        "axs[2].set_xlabel('ENTRIES')\n",
        "axs[2].set_ylabel('Frequency')\n",
        "axs[2].set_title('Histogram of ENTRIES on Sunday')"
      ],
      "execution_count": null,
      "outputs": [
        {
          "output_type": "stream",
          "text": [
            "No handles with labels found to put in legend.\n"
          ],
          "name": "stderr"
        },
        {
          "output_type": "execute_result",
          "data": {
            "text/plain": [
              "Text(0.5, 1.0, 'Histogram of ENTRIES on Sunday')"
            ]
          },
          "metadata": {
            "tags": []
          },
          "execution_count": 120
        },
        {
          "output_type": "display_data",
          "data": {
            "image/png": "[encoded data removed]",
            "text/plain": [
              "<Figure size 1440x864 with 4 Axes>"
            ]
          },
          "metadata": {
            "tags": []
          }
        },
        {
          "output_type": "display_data",
          "data": {
            "text/plain": [
              "<Figure size 432x288 with 0 Axes>"
            ]
          },
          "metadata": {
            "tags": []
          }
        },
        {
          "output_type": "display_data",
          "data": {
            "image/png": "[encoded data removed]",
            "text/plain": [
              "<Figure size 1440x360 with 3 Axes>"
            ]
          },
          "metadata": {
            "tags": []
          }
        }
      ]
    },
    {
      "cell_type": "code",
      "metadata": {
        "colab": {
          "base_uri": "https://localhost:8080/"
        },
        "id": "-3pcad8ROD3Y",
        "outputId": "ced901ae-5699-40ce-9360-00fab16be712"
      },
      "source": [
        "stats.kruskal(data[data['day_week']==1]['ENTRIESn_hourly'],data[data['day_week']==2]['ENTRIESn_hourly'],data[data['day_week']==3]['ENTRIESn_hourly'], data[data['day_week']==4]['ENTRIESn_hourly'],\n",
        "              data[data['day_week']==5]['ENTRIESn_hourly'],data[data['day_week']==6]['ENTRIESn_hourly'], data[data['day_week']==0]['ENTRIESn_hourly'])"
      ],
      "execution_count": null,
      "outputs": [
        {
          "output_type": "execute_result",
          "data": {
            "text/plain": [
              "KruskalResult(statistic=924.1762729610545, pvalue=2.2282889854976663e-196)"
            ]
          },
          "metadata": {
            "tags": []
          },
          "execution_count": 123
        }
      ]
    },
    {
      "cell_type": "markdown",
      "metadata": {
        "id": "tALUdeqjRXdl"
      },
      "source": [
        ">**p_value < 0.05: So I accept the assumption:that entries is statistically different among days of week**"
      ]
    },
    {
      "cell_type": "markdown",
      "metadata": {
        "id": "ca7jEURW4PpV"
      },
      "source": [
        "### 4. Station effects on the amount subway ridership"
      ]
    },
    {
      "cell_type": "code",
      "metadata": {
        "colab": {
          "base_uri": "https://localhost:8080/"
        },
        "id": "-7Bc9TdtT3GY",
        "outputId": "775de5b8-4b4b-47e9-ba6b-a44dfba28ede"
      },
      "source": [
        "entries_station = data['station'].value_counts()\n",
        "print('Top 10 stations have most records:\\n','\\n'.join(entries_station.index[0:10]))"
      ],
      "execution_count": null,
      "outputs": [
        {
          "output_type": "stream",
          "text": [
            "Top 10 stations have most records:\n",
            " 34 ST-PENN STA\n",
            "86 ST\n",
            "50 ST\n",
            "LEXINGTON AVE\n",
            "145 ST\n",
            "34 ST-HERALD SQ\n",
            "CHAMBERS ST\n",
            "42 ST-TIMES SQ\n",
            "JAY ST-METROTEC\n",
            "LEXINGTON-53 ST\n"
          ],
          "name": "stdout"
        }
      ]
    },
    {
      "cell_type": "code",
      "metadata": {
        "colab": {
          "base_uri": "https://localhost:8080/",
          "height": 754
        },
        "id": "N5k2onMbXFyT",
        "outputId": "a6438dcb-6563-4bef-b48d-f1be6f8383cd"
      },
      "source": [
        "fig, axs = plt.subplots(2,2, figsize=(20,12))\n",
        "\n",
        "axs[0][0].hist(data[data['station']=='34 ST-PENN STA']['ENTRIESn_hourly'], range=[0,25000])\n",
        "axs[0][0].set_xlabel('ENTRIES')\n",
        "axs[0][0].set_ylabel('Frequency')\n",
        "axs[0][0].set_title('Histogram of ENTRIES at 34 ST-PENN STA')\n",
        "\n",
        "axs[0][1].hist(data[data['station']=='86 ST']['ENTRIESn_hourly'], range=[0,25000])\n",
        "axs[0][1].set_xlabel('ENTRIES')\n",
        "axs[0][1].set_ylabel('Frequency')\n",
        "axs[0][1].set_title('Histogram of ENTRIES at 86 ST')\n",
        "\n",
        "axs[1][0].hist(data[data['station']=='50 ST']['ENTRIESn_hourly'], range=[0,25000])\n",
        "axs[1][0].set_xlabel('ENTRIES')\n",
        "axs[1][0].set_ylabel('Frequency')\n",
        "axs[1][0].set_title('Histogram of ENTRIES at 50 ST')\n",
        "\n",
        "axs[1][1].hist(data[data['station']=='LEXINGTON AVE']['ENTRIESn_hourly'], range=[0,25000])\n",
        "axs[1][1].set_xlabel('ENTRIES')\n",
        "axs[1][1].set_ylabel('Frequency')\n",
        "axs[1][1].set_title('Histogram of ENTRIES at LEXINGTON AVE')\n"
      ],
      "execution_count": null,
      "outputs": [
        {
          "output_type": "execute_result",
          "data": {
            "text/plain": [
              "Text(0.5, 1.0, 'Histogram of ENTRIES at LEXINGTON AVE')"
            ]
          },
          "metadata": {
            "tags": []
          },
          "execution_count": 164
        },
        {
          "output_type": "display_data",
          "data": {
            "image/png": "[encoded data removed]",
            "text/plain": [
              "<Figure size 1440x864 with 4 Axes>"
            ]
          },
          "metadata": {
            "tags": []
          }
        }
      ]
    },
    {
      "cell_type": "markdown",
      "metadata": {
        "id": "QwVaDu5jcwf0"
      },
      "source": [
        "> Entries at each station also does not follow normal distribution"
      ]
    },
    {
      "cell_type": "code",
      "metadata": {
        "colab": {
          "base_uri": "https://localhost:8080/"
        },
        "id": "lpWXoeF_T9nF",
        "outputId": "0c7f0e04-f657-4385-ac2a-e3f0d7a525c2"
      },
      "source": [
        "stats.kruskal(data[data['station']=='34 ST-PENN STA']['ENTRIESn_hourly'],data[data['station']=='86 ST']['ENTRIESn'])"
      ],
      "execution_count": null,
      "outputs": [
        {
          "output_type": "execute_result",
          "data": {
            "text/plain": [
              "KruskalResult(statistic=830.2074526407749, pvalue=1.460721560577897e-182)"
            ]
          },
          "metadata": {
            "tags": []
          },
          "execution_count": 159
        }
      ]
    },
    {
      "cell_type": "markdown",
      "metadata": {
        "id": "GuFmznrOT0yu"
      },
      "source": [
        "> **p_value < 0.05: entries is statistically different among stations**"
      ]
    },
    {
      "cell_type": "markdown",
      "metadata": {
        "id": "seL05ZeK4wK_"
      },
      "source": [
        "## So, do more people ride subway on rainy day?"
      ]
    },
    {
      "cell_type": "markdown",
      "metadata": {
        "id": "R1NnEIrb5AH0"
      },
      "source": [
        "> My answer is yes! Above, I have demonstrate by run hypothesis testing and conclude that there's a significant different between the means of the amount of entries in rainy days and non rainy days.\n",
        "\n",
        "> But, more or less? The answer is more. By calculating mean, we have entries on rainy day more than 167 people compare with on non rainy days. \n",
        "\n",
        "> To see the coefficent effect. I'm gonna build a Linear Regression model"
      ]
    },
    {
      "cell_type": "code",
      "metadata": {
        "colab": {
          "base_uri": "https://localhost:8080/"
        },
        "id": "1ovU3XMoytHU",
        "outputId": "75bb4f16-82f5-4227-9157-b13dca1295e5"
      },
      "source": [
        "rain_data.mean() - non_rain_data.mean()"
      ],
      "execution_count": null,
      "outputs": [
        {
          "output_type": "execute_result",
          "data": {
            "text/plain": [
              "ENTRIESn_hourly    167.542531\n",
              "dtype: float64"
            ]
          },
          "metadata": {
            "tags": []
          },
          "execution_count": 86
        }
      ]
    },
    {
      "cell_type": "markdown",
      "metadata": {
        "id": "ffe7la4R24HG"
      },
      "source": [
        "\n",
        "\n",
        "---\n",
        "\n"
      ]
    },
    {
      "cell_type": "markdown",
      "metadata": {
        "id": "zrGilu2r67mn"
      },
      "source": [
        "# Predict number of entries using Linear Regression"
      ]
    },
    {
      "cell_type": "markdown",
      "metadata": {
        "id": "qDiYOMhM7Ml-"
      },
      "source": [
        "> Now, I'm gonna try to predict the amount of entries using Linear Regression model"
      ]
    },
    {
      "cell_type": "markdown",
      "metadata": {
        "id": "hm0M0szj7UQH"
      },
      "source": [
        "### Feature selection"
      ]
    },
    {
      "cell_type": "markdown",
      "metadata": {
        "id": "Sm-YWzWazKDp"
      },
      "source": [
        "> I'm gonna use: `station`, `hour`, `day_week`, `week_day`, `fog`, `conds`, `rain` to train Linear Regression model\n",
        "\n",
        "> I use one hot encoding to preresent `station`, `hour`, `conds`, `day_week`"
      ]
    },
    {
      "cell_type": "code",
      "metadata": {
        "id": "yvK8gi1CtkoY"
      },
      "source": [
        "training_data = pd.DataFrame(data, columns=['station', 'hour', 'day_week','conds','rain','weekday','fog'])\n",
        "y = data['ENTRIESn_hourly'].values.flatten()"
      ],
      "execution_count": null,
      "outputs": []
    },
    {
      "cell_type": "code",
      "metadata": {
        "id": "vA1M1skTtzUD"
      },
      "source": [
        "training_data = pd.get_dummies(training_data,columns=['station','hour', 'day_week', 'conds'])"
      ],
      "execution_count": null,
      "outputs": []
    },
    {
      "cell_type": "code",
      "metadata": {
        "colab": {
          "base_uri": "https://localhost:8080/",
          "height": 290
        },
        "id": "wn0I1BIN0XKl",
        "outputId": "7b256bcf-c58e-4085-df22-7fb89426f636"
      },
      "source": [
        "training_data.head()"
      ],
      "execution_count": null,
      "outputs": [
        {
          "output_type": "execute_result",
          "data": {
            "text/html": [
              "<div>\n",
              "<style scoped>\n",
              "    .dataframe tbody tr th:only-of-type {\n",
              "        vertical-align: middle;\n",
              "    }\n",
              "\n",
              "    .dataframe tbody tr th {\n",
              "        vertical-align: top;\n",
              "    }\n",
              "\n",
              "    .dataframe thead th {\n",
              "        text-align: right;\n",
              "    }\n",
              "</style>\n",
              "<table border=\"1\" class=\"dataframe\">\n",
              "  <thead>\n",
              "    <tr style=\"text-align: right;\">\n",
              "      <th></th>\n",
              "      <th>rain</th>\n",
              "      <th>weekday</th>\n",
              "      <th>fog</th>\n",
              "      <th>station_1 AVE</th>\n",
              "      <th>station_103 ST-CORONA</th>\n",
              "      <th>station_104 ST</th>\n",
              "      <th>station_110 ST</th>\n",
              "      <th>station_110 ST-CPN</th>\n",
              "      <th>station_111 ST</th>\n",
              "      <th>station_121 ST</th>\n",
              "      <th>station_125 ST</th>\n",
              "      <th>station_135 ST</th>\n",
              "      <th>station_138 ST-GR CONC</th>\n",
              "      <th>station_14 ST</th>\n",
              "      <th>station_145 ST</th>\n",
              "      <th>station_148 ST-LENOX</th>\n",
              "      <th>station_149 ST-3 AVE</th>\n",
              "      <th>station_149 ST-GR CONC</th>\n",
              "      <th>station_167 ST</th>\n",
              "      <th>station_168 ST-BROADWAY</th>\n",
              "      <th>station_169 ST</th>\n",
              "      <th>station_170 ST</th>\n",
              "      <th>station_174-175 ST</th>\n",
              "      <th>station_175 ST</th>\n",
              "      <th>station_176 ST</th>\n",
              "      <th>station_18 AVE</th>\n",
              "      <th>station_18 ST</th>\n",
              "      <th>station_181 ST</th>\n",
              "      <th>station_182-183 ST</th>\n",
              "      <th>station_183 ST</th>\n",
              "      <th>station_190 ST</th>\n",
              "      <th>station_191 ST</th>\n",
              "      <th>station_2 AVE</th>\n",
              "      <th>station_20 AVE</th>\n",
              "      <th>station_207 ST</th>\n",
              "      <th>station_21 ST</th>\n",
              "      <th>station_215 ST</th>\n",
              "      <th>station_23 ST</th>\n",
              "      <th>station_23 ST-5 AVE</th>\n",
              "      <th>station_23 ST-6 AVE</th>\n",
              "      <th>...</th>\n",
              "      <th>station_SUTPHIN BLVD</th>\n",
              "      <th>station_SUTTER AVE</th>\n",
              "      <th>station_UNION ST</th>\n",
              "      <th>station_VAN SICLEN AVE</th>\n",
              "      <th>station_VAN WYCK BLVD</th>\n",
              "      <th>station_VERNON/JACKSON</th>\n",
              "      <th>station_W 8 ST-AQUARIUM</th>\n",
              "      <th>station_WALL ST</th>\n",
              "      <th>station_WASHINGTON-36 A</th>\n",
              "      <th>station_WESTCHESTER SQ</th>\n",
              "      <th>station_WHITLOCK AVE</th>\n",
              "      <th>station_WILSON AVE</th>\n",
              "      <th>station_WOODHAVEN BLVD</th>\n",
              "      <th>station_WOODLAWN ROAD</th>\n",
              "      <th>station_WORLD TRADE CTR</th>\n",
              "      <th>hour_0</th>\n",
              "      <th>hour_4</th>\n",
              "      <th>hour_8</th>\n",
              "      <th>hour_12</th>\n",
              "      <th>hour_16</th>\n",
              "      <th>hour_20</th>\n",
              "      <th>day_week_0</th>\n",
              "      <th>day_week_1</th>\n",
              "      <th>day_week_2</th>\n",
              "      <th>day_week_3</th>\n",
              "      <th>day_week_4</th>\n",
              "      <th>day_week_5</th>\n",
              "      <th>day_week_6</th>\n",
              "      <th>conds_Clear</th>\n",
              "      <th>conds_Fog</th>\n",
              "      <th>conds_Haze</th>\n",
              "      <th>conds_Heavy Rain</th>\n",
              "      <th>conds_Light Drizzle</th>\n",
              "      <th>conds_Light Rain</th>\n",
              "      <th>conds_Mist</th>\n",
              "      <th>conds_Mostly Cloudy</th>\n",
              "      <th>conds_Overcast</th>\n",
              "      <th>conds_Partly Cloudy</th>\n",
              "      <th>conds_Rain</th>\n",
              "      <th>conds_Scattered Clouds</th>\n",
              "    </tr>\n",
              "  </thead>\n",
              "  <tbody>\n",
              "    <tr>\n",
              "      <th>5</th>\n",
              "      <td>0</td>\n",
              "      <td>1</td>\n",
              "      <td>0</td>\n",
              "      <td>0</td>\n",
              "      <td>0</td>\n",
              "      <td>0</td>\n",
              "      <td>0</td>\n",
              "      <td>0</td>\n",
              "      <td>0</td>\n",
              "      <td>0</td>\n",
              "      <td>0</td>\n",
              "      <td>0</td>\n",
              "      <td>0</td>\n",
              "      <td>0</td>\n",
              "      <td>0</td>\n",
              "      <td>0</td>\n",
              "      <td>0</td>\n",
              "      <td>0</td>\n",
              "      <td>0</td>\n",
              "      <td>0</td>\n",
              "      <td>0</td>\n",
              "      <td>0</td>\n",
              "      <td>0</td>\n",
              "      <td>0</td>\n",
              "      <td>0</td>\n",
              "      <td>0</td>\n",
              "      <td>0</td>\n",
              "      <td>0</td>\n",
              "      <td>0</td>\n",
              "      <td>0</td>\n",
              "      <td>0</td>\n",
              "      <td>0</td>\n",
              "      <td>0</td>\n",
              "      <td>0</td>\n",
              "      <td>0</td>\n",
              "      <td>0</td>\n",
              "      <td>0</td>\n",
              "      <td>0</td>\n",
              "      <td>0</td>\n",
              "      <td>0</td>\n",
              "      <td>...</td>\n",
              "      <td>0</td>\n",
              "      <td>0</td>\n",
              "      <td>0</td>\n",
              "      <td>0</td>\n",
              "      <td>0</td>\n",
              "      <td>0</td>\n",
              "      <td>0</td>\n",
              "      <td>0</td>\n",
              "      <td>0</td>\n",
              "      <td>0</td>\n",
              "      <td>0</td>\n",
              "      <td>0</td>\n",
              "      <td>0</td>\n",
              "      <td>0</td>\n",
              "      <td>0</td>\n",
              "      <td>1</td>\n",
              "      <td>0</td>\n",
              "      <td>0</td>\n",
              "      <td>0</td>\n",
              "      <td>0</td>\n",
              "      <td>0</td>\n",
              "      <td>1</td>\n",
              "      <td>0</td>\n",
              "      <td>0</td>\n",
              "      <td>0</td>\n",
              "      <td>0</td>\n",
              "      <td>0</td>\n",
              "      <td>0</td>\n",
              "      <td>0</td>\n",
              "      <td>0</td>\n",
              "      <td>0</td>\n",
              "      <td>0</td>\n",
              "      <td>0</td>\n",
              "      <td>0</td>\n",
              "      <td>0</td>\n",
              "      <td>1</td>\n",
              "      <td>0</td>\n",
              "      <td>0</td>\n",
              "      <td>0</td>\n",
              "      <td>0</td>\n",
              "    </tr>\n",
              "    <tr>\n",
              "      <th>6</th>\n",
              "      <td>0</td>\n",
              "      <td>1</td>\n",
              "      <td>0</td>\n",
              "      <td>0</td>\n",
              "      <td>0</td>\n",
              "      <td>0</td>\n",
              "      <td>0</td>\n",
              "      <td>0</td>\n",
              "      <td>0</td>\n",
              "      <td>0</td>\n",
              "      <td>0</td>\n",
              "      <td>0</td>\n",
              "      <td>0</td>\n",
              "      <td>0</td>\n",
              "      <td>0</td>\n",
              "      <td>0</td>\n",
              "      <td>0</td>\n",
              "      <td>0</td>\n",
              "      <td>0</td>\n",
              "      <td>0</td>\n",
              "      <td>0</td>\n",
              "      <td>0</td>\n",
              "      <td>0</td>\n",
              "      <td>0</td>\n",
              "      <td>0</td>\n",
              "      <td>0</td>\n",
              "      <td>0</td>\n",
              "      <td>0</td>\n",
              "      <td>0</td>\n",
              "      <td>0</td>\n",
              "      <td>0</td>\n",
              "      <td>0</td>\n",
              "      <td>0</td>\n",
              "      <td>0</td>\n",
              "      <td>0</td>\n",
              "      <td>0</td>\n",
              "      <td>0</td>\n",
              "      <td>0</td>\n",
              "      <td>0</td>\n",
              "      <td>0</td>\n",
              "      <td>...</td>\n",
              "      <td>0</td>\n",
              "      <td>0</td>\n",
              "      <td>0</td>\n",
              "      <td>0</td>\n",
              "      <td>0</td>\n",
              "      <td>0</td>\n",
              "      <td>0</td>\n",
              "      <td>0</td>\n",
              "      <td>0</td>\n",
              "      <td>0</td>\n",
              "      <td>0</td>\n",
              "      <td>0</td>\n",
              "      <td>0</td>\n",
              "      <td>0</td>\n",
              "      <td>0</td>\n",
              "      <td>0</td>\n",
              "      <td>1</td>\n",
              "      <td>0</td>\n",
              "      <td>0</td>\n",
              "      <td>0</td>\n",
              "      <td>0</td>\n",
              "      <td>1</td>\n",
              "      <td>0</td>\n",
              "      <td>0</td>\n",
              "      <td>0</td>\n",
              "      <td>0</td>\n",
              "      <td>0</td>\n",
              "      <td>0</td>\n",
              "      <td>0</td>\n",
              "      <td>0</td>\n",
              "      <td>0</td>\n",
              "      <td>0</td>\n",
              "      <td>0</td>\n",
              "      <td>0</td>\n",
              "      <td>0</td>\n",
              "      <td>0</td>\n",
              "      <td>1</td>\n",
              "      <td>0</td>\n",
              "      <td>0</td>\n",
              "      <td>0</td>\n",
              "    </tr>\n",
              "    <tr>\n",
              "      <th>7</th>\n",
              "      <td>0</td>\n",
              "      <td>1</td>\n",
              "      <td>0</td>\n",
              "      <td>0</td>\n",
              "      <td>0</td>\n",
              "      <td>0</td>\n",
              "      <td>0</td>\n",
              "      <td>0</td>\n",
              "      <td>0</td>\n",
              "      <td>0</td>\n",
              "      <td>0</td>\n",
              "      <td>0</td>\n",
              "      <td>0</td>\n",
              "      <td>0</td>\n",
              "      <td>0</td>\n",
              "      <td>0</td>\n",
              "      <td>0</td>\n",
              "      <td>0</td>\n",
              "      <td>0</td>\n",
              "      <td>0</td>\n",
              "      <td>0</td>\n",
              "      <td>0</td>\n",
              "      <td>0</td>\n",
              "      <td>0</td>\n",
              "      <td>0</td>\n",
              "      <td>0</td>\n",
              "      <td>0</td>\n",
              "      <td>0</td>\n",
              "      <td>0</td>\n",
              "      <td>0</td>\n",
              "      <td>0</td>\n",
              "      <td>0</td>\n",
              "      <td>0</td>\n",
              "      <td>0</td>\n",
              "      <td>0</td>\n",
              "      <td>0</td>\n",
              "      <td>0</td>\n",
              "      <td>0</td>\n",
              "      <td>0</td>\n",
              "      <td>0</td>\n",
              "      <td>...</td>\n",
              "      <td>0</td>\n",
              "      <td>0</td>\n",
              "      <td>0</td>\n",
              "      <td>0</td>\n",
              "      <td>0</td>\n",
              "      <td>0</td>\n",
              "      <td>0</td>\n",
              "      <td>0</td>\n",
              "      <td>0</td>\n",
              "      <td>0</td>\n",
              "      <td>0</td>\n",
              "      <td>0</td>\n",
              "      <td>0</td>\n",
              "      <td>0</td>\n",
              "      <td>0</td>\n",
              "      <td>0</td>\n",
              "      <td>0</td>\n",
              "      <td>1</td>\n",
              "      <td>0</td>\n",
              "      <td>0</td>\n",
              "      <td>0</td>\n",
              "      <td>1</td>\n",
              "      <td>0</td>\n",
              "      <td>0</td>\n",
              "      <td>0</td>\n",
              "      <td>0</td>\n",
              "      <td>0</td>\n",
              "      <td>0</td>\n",
              "      <td>0</td>\n",
              "      <td>0</td>\n",
              "      <td>0</td>\n",
              "      <td>0</td>\n",
              "      <td>0</td>\n",
              "      <td>0</td>\n",
              "      <td>0</td>\n",
              "      <td>0</td>\n",
              "      <td>1</td>\n",
              "      <td>0</td>\n",
              "      <td>0</td>\n",
              "      <td>0</td>\n",
              "    </tr>\n",
              "    <tr>\n",
              "      <th>8</th>\n",
              "      <td>0</td>\n",
              "      <td>1</td>\n",
              "      <td>0</td>\n",
              "      <td>0</td>\n",
              "      <td>0</td>\n",
              "      <td>0</td>\n",
              "      <td>0</td>\n",
              "      <td>0</td>\n",
              "      <td>0</td>\n",
              "      <td>0</td>\n",
              "      <td>0</td>\n",
              "      <td>0</td>\n",
              "      <td>0</td>\n",
              "      <td>0</td>\n",
              "      <td>0</td>\n",
              "      <td>0</td>\n",
              "      <td>0</td>\n",
              "      <td>0</td>\n",
              "      <td>0</td>\n",
              "      <td>0</td>\n",
              "      <td>0</td>\n",
              "      <td>0</td>\n",
              "      <td>0</td>\n",
              "      <td>0</td>\n",
              "      <td>0</td>\n",
              "      <td>0</td>\n",
              "      <td>0</td>\n",
              "      <td>0</td>\n",
              "      <td>0</td>\n",
              "      <td>0</td>\n",
              "      <td>0</td>\n",
              "      <td>0</td>\n",
              "      <td>0</td>\n",
              "      <td>0</td>\n",
              "      <td>0</td>\n",
              "      <td>0</td>\n",
              "      <td>0</td>\n",
              "      <td>0</td>\n",
              "      <td>0</td>\n",
              "      <td>0</td>\n",
              "      <td>...</td>\n",
              "      <td>0</td>\n",
              "      <td>0</td>\n",
              "      <td>0</td>\n",
              "      <td>0</td>\n",
              "      <td>0</td>\n",
              "      <td>0</td>\n",
              "      <td>0</td>\n",
              "      <td>0</td>\n",
              "      <td>0</td>\n",
              "      <td>0</td>\n",
              "      <td>0</td>\n",
              "      <td>0</td>\n",
              "      <td>0</td>\n",
              "      <td>0</td>\n",
              "      <td>0</td>\n",
              "      <td>0</td>\n",
              "      <td>0</td>\n",
              "      <td>0</td>\n",
              "      <td>1</td>\n",
              "      <td>0</td>\n",
              "      <td>0</td>\n",
              "      <td>1</td>\n",
              "      <td>0</td>\n",
              "      <td>0</td>\n",
              "      <td>0</td>\n",
              "      <td>0</td>\n",
              "      <td>0</td>\n",
              "      <td>0</td>\n",
              "      <td>0</td>\n",
              "      <td>0</td>\n",
              "      <td>0</td>\n",
              "      <td>0</td>\n",
              "      <td>0</td>\n",
              "      <td>0</td>\n",
              "      <td>0</td>\n",
              "      <td>0</td>\n",
              "      <td>1</td>\n",
              "      <td>0</td>\n",
              "      <td>0</td>\n",
              "      <td>0</td>\n",
              "    </tr>\n",
              "    <tr>\n",
              "      <th>9</th>\n",
              "      <td>0</td>\n",
              "      <td>1</td>\n",
              "      <td>0</td>\n",
              "      <td>0</td>\n",
              "      <td>0</td>\n",
              "      <td>0</td>\n",
              "      <td>0</td>\n",
              "      <td>0</td>\n",
              "      <td>0</td>\n",
              "      <td>0</td>\n",
              "      <td>0</td>\n",
              "      <td>0</td>\n",
              "      <td>0</td>\n",
              "      <td>0</td>\n",
              "      <td>0</td>\n",
              "      <td>0</td>\n",
              "      <td>0</td>\n",
              "      <td>0</td>\n",
              "      <td>0</td>\n",
              "      <td>0</td>\n",
              "      <td>0</td>\n",
              "      <td>0</td>\n",
              "      <td>0</td>\n",
              "      <td>0</td>\n",
              "      <td>0</td>\n",
              "      <td>0</td>\n",
              "      <td>0</td>\n",
              "      <td>0</td>\n",
              "      <td>0</td>\n",
              "      <td>0</td>\n",
              "      <td>0</td>\n",
              "      <td>0</td>\n",
              "      <td>0</td>\n",
              "      <td>0</td>\n",
              "      <td>0</td>\n",
              "      <td>0</td>\n",
              "      <td>0</td>\n",
              "      <td>0</td>\n",
              "      <td>0</td>\n",
              "      <td>0</td>\n",
              "      <td>...</td>\n",
              "      <td>0</td>\n",
              "      <td>0</td>\n",
              "      <td>0</td>\n",
              "      <td>0</td>\n",
              "      <td>0</td>\n",
              "      <td>0</td>\n",
              "      <td>0</td>\n",
              "      <td>0</td>\n",
              "      <td>0</td>\n",
              "      <td>0</td>\n",
              "      <td>0</td>\n",
              "      <td>0</td>\n",
              "      <td>0</td>\n",
              "      <td>0</td>\n",
              "      <td>0</td>\n",
              "      <td>0</td>\n",
              "      <td>0</td>\n",
              "      <td>0</td>\n",
              "      <td>0</td>\n",
              "      <td>1</td>\n",
              "      <td>0</td>\n",
              "      <td>1</td>\n",
              "      <td>0</td>\n",
              "      <td>0</td>\n",
              "      <td>0</td>\n",
              "      <td>0</td>\n",
              "      <td>0</td>\n",
              "      <td>0</td>\n",
              "      <td>0</td>\n",
              "      <td>0</td>\n",
              "      <td>0</td>\n",
              "      <td>0</td>\n",
              "      <td>0</td>\n",
              "      <td>0</td>\n",
              "      <td>0</td>\n",
              "      <td>0</td>\n",
              "      <td>1</td>\n",
              "      <td>0</td>\n",
              "      <td>0</td>\n",
              "      <td>0</td>\n",
              "    </tr>\n",
              "  </tbody>\n",
              "</table>\n",
              "<p>5 rows × 234 columns</p>\n",
              "</div>"
            ],
            "text/plain": [
              "   rain  weekday  fog  ...  conds_Partly Cloudy  conds_Rain  conds_Scattered Clouds\n",
              "5     0        1    0  ...                    0           0                       0\n",
              "6     0        1    0  ...                    0           0                       0\n",
              "7     0        1    0  ...                    0           0                       0\n",
              "8     0        1    0  ...                    0           0                       0\n",
              "9     0        1    0  ...                    0           0                       0\n",
              "\n",
              "[5 rows x 234 columns]"
            ]
          },
          "metadata": {
            "tags": []
          },
          "execution_count": 114
        }
      ]
    },
    {
      "cell_type": "code",
      "metadata": {
        "colab": {
          "base_uri": "https://localhost:8080/"
        },
        "id": "70GYwpwLzww-",
        "outputId": "2b03113c-5c9d-47f4-ab1a-de09863100c2"
      },
      "source": [
        "training_data.shape"
      ],
      "execution_count": null,
      "outputs": [
        {
          "output_type": "execute_result",
          "data": {
            "text/plain": [
              "(41752, 234)"
            ]
          },
          "metadata": {
            "tags": []
          },
          "execution_count": 97
        }
      ]
    },
    {
      "cell_type": "markdown",
      "metadata": {
        "id": "_AFdgbUfz3FL"
      },
      "source": [
        "> After one hot encoding, we have `234 features`"
      ]
    },
    {
      "cell_type": "markdown",
      "metadata": {
        "id": "HmO32Ja8z9Xp"
      },
      "source": [
        "> To correctly evaluate model, I divide my training data into two sets: Train set: 0.8 and Test set:0.2 Training model on train set and Evaluating model on test set"
      ]
    },
    {
      "cell_type": "markdown",
      "metadata": {
        "id": "y8uCQV3220SA"
      },
      "source": [
        "### Train and evaluate"
      ]
    },
    {
      "cell_type": "code",
      "metadata": {
        "id": "G5KnE2W6cpPt"
      },
      "source": [
        "from sklearn.model_selection import train_test_split\n",
        "X_train, X_test, y_train, y_test = train_test_split(training_data, y, test_size=0.2, random_state=7, shuffle=True, stratify=None)"
      ],
      "execution_count": null,
      "outputs": []
    },
    {
      "cell_type": "code",
      "metadata": {
        "colab": {
          "base_uri": "https://localhost:8080/"
        },
        "id": "jpH5S1wtuP2F",
        "outputId": "b388d87b-641c-4b21-aaeb-06f35342d25b"
      },
      "source": [
        "from sklearn.linear_model import LinearRegression\n",
        "reg = LinearRegression().fit(X_train, y_train)\n",
        "print(reg.score(X_test, y_test))\n",
        "print(reg.coef_[0])"
      ],
      "execution_count": null,
      "outputs": [
        {
          "output_type": "stream",
          "text": [
            "0.5063719747606412\n",
            "106.77372958614447\n"
          ],
          "name": "stdout"
        }
      ]
    },
    {
      "cell_type": "markdown",
      "metadata": {
        "id": "_QUDlraw-Nq3"
      },
      "source": [
        "> I get 0.506 R-square score on test set. Its mean Linear Regression can explain about 50 percent of data "
      ]
    },
    {
      "cell_type": "markdown",
      "metadata": {
        "id": "_lg38NUEyGVb"
      },
      "source": [
        "> The coefficent of `rain` feature is 106. It means, when its raining the entries increase 106 people. Because our feature value is 1 for raining."
      ]
    },
    {
      "cell_type": "markdown",
      "metadata": {
        "id": "GngZMiTa2ybo"
      },
      "source": [
        "# Use GradientBoostingRegressor to improve prediction performance "
      ]
    },
    {
      "cell_type": "markdown",
      "metadata": {
        "id": "viOh2AUh-f4-"
      },
      "source": [
        "> To improve prediction performance. I use GradientBoostingRegressior. \n",
        "\n",
        "> This time, I use more features"
      ]
    },
    {
      "cell_type": "markdown",
      "metadata": {
        "id": "0_jUj2I9-y4i"
      },
      "source": [
        "### Feature selection"
      ]
    },
    {
      "cell_type": "markdown",
      "metadata": {
        "id": "QpJGEG0w-1cT"
      },
      "source": [
        "> I drop UNIT and feature related to date and time. "
      ]
    },
    {
      "cell_type": "code",
      "metadata": {
        "id": "BI3xtXNbN9eD"
      },
      "source": [
        "training_data = data.drop(columns=['UNIT','DATEn','TIMEn','EXITSn','ENTRIESn','ENTRIESn_hourly','EXITSn_hourly','datetime'])\n",
        "target = data[['ENTRIESn_hourly']]\n",
        "target = target.values.flatten()"
      ],
      "execution_count": null,
      "outputs": []
    },
    {
      "cell_type": "code",
      "metadata": {
        "colab": {
          "base_uri": "https://localhost:8080/"
        },
        "id": "a_sfm4pt_Rnm",
        "outputId": "43619476-1c98-4556-ff08-a57befd8be20"
      },
      "source": [
        "training_data.columns"
      ],
      "execution_count": null,
      "outputs": [
        {
          "output_type": "execute_result",
          "data": {
            "text/plain": [
              "Index(['hour', 'day_week', 'weekday', 'station', 'conds', 'fog', 'precipi',\n",
              "       'pressurei', 'rain', 'tempi', 'wspdi', 'meanprecipi', 'meanpressurei',\n",
              "       'meantempi', 'meanwspdi'],\n",
              "      dtype='object')"
            ]
          },
          "metadata": {
            "tags": []
          },
          "execution_count": 204
        }
      ]
    },
    {
      "cell_type": "code",
      "metadata": {
        "id": "EMJ_dijj_Gi3"
      },
      "source": [
        "training_data = pd.get_dummies(training_data, columns = ['station','hour','day_week','conds'])"
      ],
      "execution_count": null,
      "outputs": []
    },
    {
      "cell_type": "code",
      "metadata": {
        "colab": {
          "base_uri": "https://localhost:8080/"
        },
        "id": "xZZkh_SV_X7s",
        "outputId": "58b0a50f-138c-4735-ddca-3c68dd357ab2"
      },
      "source": [
        "training_data.shape"
      ],
      "execution_count": null,
      "outputs": [
        {
          "output_type": "execute_result",
          "data": {
            "text/plain": [
              "(41752, 242)"
            ]
          },
          "metadata": {
            "tags": []
          },
          "execution_count": 206
        }
      ]
    },
    {
      "cell_type": "code",
      "metadata": {
        "id": "bJxJKxPdzVmJ",
        "colab": {
          "base_uri": "https://localhost:8080/"
        },
        "outputId": "63bd0798-25d6-456f-8f3c-e29417ec1e92"
      },
      "source": [
        "learning_rate=[0.01]\n",
        "alpha=[0.01,0.03,0.05,0.1,0.3, 0.9]\n",
        "n_estimators=[int(x) for x in np.linspace(start = 100, stop = 500, num = 4)]\n",
        "max_depth=[int(x) for x in np.linspace(start = 10, stop = 30, num = 4)]\n",
        "max_depth.append(None)\n",
        "min_samples_split=[int(x) for x in np.linspace(start = 2, stop = 5, num = 4)]\n",
        "min_samples_leaf=[int(x) for x in np.linspace(start = 1, stop = 4, num = 4)]\n",
        "max_features=['auto', 'sqrt']\n",
        "\n",
        "# Create the random grid\n",
        "param_grid = {'learning_rate':learning_rate,\n",
        "              'alpha':alpha,\n",
        "              'n_estimators': n_estimators,\n",
        "              'max_features': max_features,\n",
        "              'max_depth': max_depth,\n",
        "              'min_samples_split': min_samples_split,\n",
        "              'min_samples_leaf': min_samples_leaf,\n",
        "             }\n",
        "# Initialize and fit the model.\n",
        "model = GradientBoostingRegressor()\n",
        "model = RandomizedSearchCV(model, param_grid, cv=3)\n",
        "model.fit(X_train, y_train)\n",
        "\n",
        "# get the best parameters\n",
        "best_params = model.best_params_\n",
        "print(best_params)"
      ],
      "execution_count": null,
      "outputs": [
        {
          "output_type": "stream",
          "text": [
            "{'n_estimators': 233, 'min_samples_split': 3, 'min_samples_leaf': 4, 'max_features': 'sqrt', 'max_depth': None, 'learning_rate': 0.01, 'alpha': 0.05}\n"
          ],
          "name": "stdout"
        }
      ]
    },
    {
      "cell_type": "code",
      "metadata": {
        "id": "4___CoYV6LaS"
      },
      "source": [
        "model_best = GradientBoostingRegressor(**best_params)\n",
        "model_best.fit(X_train,y_train)\n",
        "y_pred = model_best.predict(X_test)"
      ],
      "execution_count": null,
      "outputs": []
    },
    {
      "cell_type": "code",
      "metadata": {
        "colab": {
          "base_uri": "https://localhost:8080/"
        },
        "id": "QJw9TSSWvVG8",
        "outputId": "0b5918c5-8d21-4968-df11-6be711de3782"
      },
      "source": [
        "X_test.shape"
      ],
      "execution_count": null,
      "outputs": [
        {
          "output_type": "execute_result",
          "data": {
            "text/plain": [
              "(10438, 236)"
            ]
          },
          "metadata": {
            "tags": []
          },
          "execution_count": 85
        }
      ]
    },
    {
      "cell_type": "code",
      "metadata": {
        "id": "ETKpNgrvO2wh",
        "colab": {
          "base_uri": "https://localhost:8080/",
          "height": 479
        },
        "outputId": "3aa5fe04-6ccf-46de-9d4a-c9fb49bac892"
      },
      "source": [
        "plt.scatter(y_test,y_pred)\n",
        "plt.plot([0,30000],[0,30000],'--k')\n",
        "plt.ylabel('Target Predicted')\n",
        "plt.xlabel('True Target')\n",
        "plt.title('GradientBoostingRegressor')\n",
        "x0, xmax = plt.xlim()\n",
        "y0, ymax = plt.ylim()\n",
        "data_width = xmax - x0\n",
        "data_height = ymax - y0\n",
        "plt.text(x0 + data_width*0.05, y0 + data_height * 0.9, r'$R^2$=%.2f, MAE=%.2f' % (model_best.score(X_train, y_train), median_absolute_error(y_test, y_pred)))\n",
        "plt.show()\n",
        "print('\\n\\nR-squared test set:')\n",
        "print(model_best.score(X_train, y_train))\n",
        "print('\\nMAE test set: ')\n",
        "print(mean_absolute_error(y_test, y_pred))\n",
        "print('\\nMSE test set: ')\n",
        "print(mean_squared_error(y_test, y_pred))"
      ],
      "execution_count": null,
      "outputs": [
        {
          "output_type": "display_data",
          "data": {
            "image/png": "[encoded data removed]",
            "text/plain": [
              "<Figure size 432x288 with 1 Axes>"
            ]
          },
          "metadata": {
            "tags": [],
            "needs_background": "light"
          }
        },
        {
          "output_type": "stream",
          "text": [
            "\n",
            "\n",
            "R-squared test set:\n",
            "0.8248261834136358\n",
            "\n",
            "MAE test set: \n",
            "940.8436721224815\n",
            "\n",
            "MSE test set: \n",
            "2940218.9953165273\n"
          ],
          "name": "stdout"
        }
      ]
    },
    {
      "cell_type": "markdown",
      "metadata": {
        "id": "0BplL-rkkjX9"
      },
      "source": [
        "> My model reachs 0.825 R-square. It means 82 percent of my test data can be explained by my model. Preety good!\n"
      ]
    },
    {
      "cell_type": "code",
      "metadata": {
        "id": "mV-4KtTflZ2g"
      },
      "source": [
        "import seaborn as sns"
      ],
      "execution_count": null,
      "outputs": []
    },
    {
      "cell_type": "code",
      "metadata": {
        "colab": {
          "base_uri": "https://localhost:8080/",
          "height": 338
        },
        "id": "WTNA_rIikNf4",
        "outputId": "a9e5e924-fd7b-4f2d-a4de-11d4b035534a"
      },
      "source": [
        "resid = y_pred - y_test\n",
        "sns.residplot(y_pred, resid)\n",
        "plt.title('Residual with GradientBoostingRegressor')\n",
        "plt.show()"
      ],
      "execution_count": null,
      "outputs": [
        {
          "output_type": "stream",
          "text": [
            "/usr/local/lib/python3.7/dist-packages/seaborn/_decorators.py:43: FutureWarning: Pass the following variables as keyword args: x, y. From version 0.12, the only valid positional argument will be `data`, and passing other arguments without an explicit keyword will result in an error or misinterpretation.\n",
            "  FutureWarning\n"
          ],
          "name": "stderr"
        },
        {
          "output_type": "display_data",
          "data": {
            "image/png": "[encoded data removed]",
            "text/plain": [
              "<Figure size 432x288 with 1 Axes>"
            ]
          },
          "metadata": {
            "tags": [],
            "needs_background": "light"
          }
        }
      ]
    },
    {
      "cell_type": "code",
      "metadata": {
        "colab": {
          "base_uri": "https://localhost:8080/",
          "height": 266
        },
        "id": "mjnAD9AulY3G",
        "outputId": "dd256c25-9921-4933-bbb4-2afa6e19b5d1"
      },
      "source": [
        "plt.hist(resid, bins=100, range=[-2000,2000])\n",
        "plt.show()"
      ],
      "execution_count": null,
      "outputs": [
        {
          "output_type": "display_data",
          "data": {
            "image/png": "[encoded data removed]",
            "text/plain": [
              "<Figure size 432x288 with 1 Axes>"
            ]
          },
          "metadata": {
            "tags": [],
            "needs_background": "light"
          }
        }
      ]
    },
    {
      "cell_type": "markdown",
      "metadata": {
        "id": "buIQ-7pWmoap"
      },
      "source": [
        "> Residual quiet follow normal distribution, so I can accept that my model can explaned 84% on population"
      ]
    },
    {
      "cell_type": "markdown",
      "metadata": {
        "id": "jSWYWjcJ36_P"
      },
      "source": [
        "# Conclusion"
      ]
    },
    {
      "cell_type": "markdown",
      "metadata": {
        "id": "sBBmRW-c4_Vs"
      },
      "source": [
        "> Based on this analysis, the amount of subway ridership increases when it's raining:\n",
        "\n",
        ">> By calculating the difference mean of the amount of entries. I get that it increases 167 on average the amount of entries on rainy day. \n",
        "\n",
        ">> I have run a hypothesis test to determine whether there's a significant different between means of `ENTRIES_hourly` on rainy and non rainyday. And the result is yes, there is a significant different between means of two groups\n",
        "\n",
        ">> I use Linear Regression to predict the entries and I get the coefficent of the `rain` feature is 106. It means there are 106 more people ride subwway on rainy day\n",
        "\n",
        "> Beside the rain, obviously, `hour of the day`, `day of week` or `station` also effect on the amount of people riding subway. But this is more easier to understand, example: with the `hour of day`, its likely more people get to work on 12PM for the day shift and 20PM for the night shift"
      ]
    },
    {
      "cell_type": "code",
      "metadata": {
        "id": "nhCkgzN770Ik"
      },
      "source": [
        ""
      ],
      "execution_count": null,
      "outputs": []
    }
  ]
}